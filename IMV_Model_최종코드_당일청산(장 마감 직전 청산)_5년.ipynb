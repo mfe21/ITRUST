{
 "cells": [
  {
   "cell_type": "markdown",
   "id": "fd5efe56",
   "metadata": {},
   "source": [
    "# Kodex200 주식투자전략"
   ]
  },
  {
   "cell_type": "code",
   "execution_count": 1,
   "id": "90c24065",
   "metadata": {},
   "outputs": [],
   "source": [
    "import numpy as np\n",
    "import pandas as pd\n",
    "import matplotlib.pyplot as plt\n",
    "import FinanceDataReader as fdr\n",
    "import bt\n",
    "import datetime as dt\n",
    "from tqdm import tqdm\n",
    "import warnings\n",
    "from matplotlib import gridspec\n",
    "warnings.filterwarnings('ignore')\n",
    "%matplotlib inline"
   ]
  },
  {
   "cell_type": "code",
   "execution_count": 2,
   "id": "e3f44eee",
   "metadata": {},
   "outputs": [],
   "source": [
    "end_date = '2023-02-28'"
   ]
  },
  {
   "cell_type": "markdown",
   "id": "adc0eaee",
   "metadata": {},
   "source": [
    "## Data Loading"
   ]
  },
  {
   "cell_type": "markdown",
   "id": "451cebf6",
   "metadata": {},
   "source": [
    "### Kodex200 Data Loading"
   ]
  },
  {
   "cell_type": "code",
   "execution_count": 3,
   "id": "643c5a13",
   "metadata": {},
   "outputs": [],
   "source": [
    "#[kodex200.index[0] : end_date]"
   ]
  },
  {
   "cell_type": "code",
   "execution_count": 4,
   "id": "36838668",
   "metadata": {
    "scrolled": false
   },
   "outputs": [],
   "source": [
    "kodex200 = fdr.DataReader('069500').Close # Kodex200 069500    #Tiger200 102110\n",
    "kodex200 = kodex200.loc['2017':'2022']\n",
    "long = pd.DataFrame(kodex200)\n",
    "long = long.loc['2017':'2022']"
   ]
  },
  {
   "cell_type": "markdown",
   "id": "caeb3d31",
   "metadata": {},
   "source": [
    "### Kospi Data Loading"
   ]
  },
  {
   "cell_type": "code",
   "execution_count": 5,
   "id": "f89ee8c9",
   "metadata": {},
   "outputs": [],
   "source": [
    "kospi = fdr.DataReader('KS11').Close\n",
    "kospi = kospi.dropna()\n",
    "kospi = kospi.loc['2017':'2022']"
   ]
  },
  {
   "cell_type": "markdown",
   "id": "8fc46cb8",
   "metadata": {},
   "source": [
    "### CD91(Risk Free) Data Loading"
   ]
  },
  {
   "cell_type": "code",
   "execution_count": 6,
   "id": "3d96a61c",
   "metadata": {},
   "outputs": [],
   "source": [
    "cd91 = pd.read_excel('merge.xlsx', sheet_name = 'cd91')\n",
    "cd91.columns = ['Date', 'rf_rate']\n",
    "cd91 = cd91.iloc[13:, :]\n",
    "cd91['rf_rate'] = cd91['rf_rate'].astype('float64')\n",
    "cd91 = cd91.set_index('Date')\n",
    "cd91['rf_rate'] = cd91['rf_rate'] / 100\n",
    "cd91 = cd91.loc['2017':'2022']"
   ]
  },
  {
   "cell_type": "markdown",
   "id": "9ae90ba4",
   "metadata": {},
   "source": [
    "### VKOSPI Data Loading"
   ]
  },
  {
   "cell_type": "code",
   "execution_count": 7,
   "id": "3f698eba",
   "metadata": {},
   "outputs": [],
   "source": [
    "vkospi = pd.read_excel('merge.xlsx', sheet_name = 'vkospi')\n",
    "vkospi.columns = ['Date', '종가']\n",
    "vkospi = vkospi.iloc[13:, :]\n",
    "vkospi = vkospi.set_index('Date')\n",
    "vkospi = vkospi.dropna()\n",
    "vkospi = vkospi.loc['2017':'2022']"
   ]
  },
  {
   "cell_type": "markdown",
   "id": "e136aa32",
   "metadata": {},
   "source": [
    "### S&P500 Data Loading"
   ]
  },
  {
   "cell_type": "code",
   "execution_count": 8,
   "id": "bf3372a8",
   "metadata": {},
   "outputs": [],
   "source": [
    "# sp500 = fdr.DataReader('US500').Close\n",
    "# sp500_120ma = sp500.rolling(window = 120).mean()\n",
    "# sp500_disparity = sp500 / sp500_120ma\n",
    "# sp500_disparity = sp500_disparity.dropna()\n",
    "# sp500_disparity = np.round(sp500_disparity * 100, 2)\n",
    "# sp500_disparity = pd.DataFrame(sp500_disparity)\n",
    "# #sp500_disparity = sp500_disparity.loc[kodex200.index[0]:]\n",
    "# sp500_disparity['SP500_BuySell'] = 0"
   ]
  },
  {
   "cell_type": "markdown",
   "id": "c3a1ba15",
   "metadata": {},
   "source": [
    "### NASDAQ Data Loading"
   ]
  },
  {
   "cell_type": "code",
   "execution_count": 9,
   "id": "4ffdd168",
   "metadata": {},
   "outputs": [],
   "source": [
    "# nasdaq = fdr.DataReader('IXIC').Close\n",
    "# nasdaq_120ma = nasdaq.rolling(window = 120).mean()\n",
    "# nasdaq_disparity = nasdaq / nasdaq_120ma\n",
    "# nasdaq_disparity = nasdaq_disparity.dropna()\n",
    "# nasdaq_disparity = np.round(nasdaq_disparity * 100, 2)\n",
    "# nasdaq_disparity = pd.DataFrame(nasdaq_disparity)\n",
    "# nasdaq_disparity['NASDAQ_BuySell'] = 0"
   ]
  },
  {
   "cell_type": "markdown",
   "id": "9ee59ad2",
   "metadata": {},
   "source": [
    "## 분석에 쓰이는 함수"
   ]
  },
  {
   "cell_type": "markdown",
   "id": "ddf6c07f",
   "metadata": {},
   "source": [
    "### 마지막 날 잡아내는 함수"
   ]
  },
  {
   "cell_type": "code",
   "execution_count": 10,
   "id": "e967fb82",
   "metadata": {},
   "outputs": [],
   "source": [
    "def getDatelist(data, n, type=None):\n",
    "    \n",
    "    data.index.name='date'\n",
    "    data=pd.DataFrame(data)\n",
    "    date_list = data[[data.columns[0]]].copy()  # 첫번째 종목 가져오기(날짜는 어차피 다 같으므로)\n",
    "    date_list.loc[date_list.index, 'm'] = date_list.index.month  # month date_list를 열로 생성\n",
    "    date_list.loc[date_list.index, 'y'] = date_list.index.year  # 연도에 대한 date_list를 열로 생성\n",
    "    \n",
    "    if n < 29 : #n이 29일보다 작으면\n",
    "        date_list = date_list[date_list.index.day >= n].reset_index()  # date_list의 day가 n일보다 크거나 같은 것만 가져와서\n",
    "        date_list = date_list.groupby(['y', 'm']).nth(0).reset_index()  # groupby로 묶어서 맨 첫번째 있는 것만 가져와서\n",
    "        date_list = pd.to_datetime(date_list['date'].dt.strftime('%Y-%m-%d'))  # list를 dt로 바꿔서\n",
    "        date_list = data[data.isin(data.loc[date_list]).shift(0)].dropna(how='all').index  # data에 있는 아이들을 리스트를 가져온다.\n",
    "        \n",
    "    else: #n이 29 보다 같거나 크면\n",
    "        date_list = date_list[date_list.index.day <= n].reset_index() # date_list의 day가 n일 보다 작거나 같은 것만 가져와서\n",
    "        date_list = date_list.groupby(['y', 'm']).nth(-1).reset_index()  # groupby로 묶어서 맨 마지막 값만 가져와서\n",
    "        date_list = pd.to_datetime(date_list['date'].dt.strftime('%Y-%m-%d'))  # list를 dt로 바꿔서\n",
    "        date_list = data[data.isin(data.loc[date_list]).shift(0)].dropna(how='all').index  # data에 있는 아이들을 리스트를 가져온다.\n",
    "    \n",
    "    return date_list"
   ]
  },
  {
   "cell_type": "markdown",
   "id": "02992a4d",
   "metadata": {},
   "source": [
    "### Begin and End Date"
   ]
  },
  {
   "cell_type": "code",
   "execution_count": 11,
   "id": "421abbf6",
   "metadata": {},
   "outputs": [],
   "source": [
    "end_date_for_weight = getDatelist(long, 32)\n",
    "begin_date_for_weight = getDatelist(long, 1)"
   ]
  },
  {
   "cell_type": "markdown",
   "id": "c4a12709",
   "metadata": {},
   "source": [
    "### 전체 기간동안의 결과"
   ]
  },
  {
   "cell_type": "code",
   "execution_count": 12,
   "id": "24859403",
   "metadata": {},
   "outputs": [],
   "source": [
    "def result(data, weight):\n",
    "    \n",
    "    st_ = bt.Strategy('',\n",
    "        [   bt.algos.RunOnDate(*weight.index), # 리밸런싱 주기\n",
    "            bt.algos.WeighTarget(weight), #비중 어케 할래\n",
    "            bt.algos.Rebalance() # 리밸런싱해 \n",
    "        ])\n",
    "\n",
    "    btbtbt= bt.Backtest(st_, data, initial_capital = 100000.0, integer_positions = False, commissions=lambda q, p: max(1, abs(q) * 0.0014))\n",
    "    r_bt = bt.run(btbtbt)\n",
    "    \n",
    "    output = r_bt.stats.loc[['total_return', 'cagr', 'max_drawdown']]\n",
    "    output = output.astype('float32')\n",
    "    output = np.round(output * 100, 2).astype('str') + '%'\n",
    "    # output\n",
    "    \n",
    "    return np.ravel(output.values, order='C')"
   ]
  },
  {
   "cell_type": "code",
   "execution_count": 13,
   "id": "d40ee630",
   "metadata": {},
   "outputs": [],
   "source": [
    "def result_once(data):\n",
    "    \n",
    "    st_ = bt.Strategy('',\n",
    "        [   bt.algos.RunOnce(), # 리밸런싱 주기\n",
    "            bt.algos.SelectAll(), #자산군 선택\n",
    "            bt.algos.WeighEqually(), #비중 어케 할래\n",
    "            bt.algos.Rebalance() # 리밸런싱해\n",
    "        ])\n",
    "    \n",
    "    btbtbt= bt.Backtest(st_, data, initial_capital = 100000.0, integer_positions = False, commissions=lambda q, p: max(1, abs(q) * 0.0014))\n",
    "    r_bt = bt.run(btbtbt)\n",
    "    \n",
    "    output = r_bt.stats.loc[['total_return', 'cagr', 'max_drawdown']]\n",
    "    output = output.astype('float32')\n",
    "    output = np.round(output * 100, 2).astype('str') + '%'\n",
    "    \n",
    "    return output"
   ]
  },
  {
   "cell_type": "markdown",
   "id": "3025496a",
   "metadata": {},
   "source": [
    "### 전체 기간동안의 그래프"
   ]
  },
  {
   "cell_type": "code",
   "execution_count": 14,
   "id": "f59c49d0",
   "metadata": {},
   "outputs": [],
   "source": [
    "def graph(data, title):\n",
    "    \n",
    "    fig, ax1 = plt.subplots(figsize = (90,30))\n",
    "    color_1 = 'tab:red' ; color_2 = 'blue'\n",
    "    c1 = ax1.plot((data).loc['2018':'2022', ], color = color_1, label = 'Portfolio')\n",
    "    ax1.set_ylabel('Portfolio', fontsize=50)\n",
    "    ax1.tick_params(axis='y', labelcolor='black', labelsize=50)\n",
    "    \n",
    "    plt.xticks(fontsize = 55)\n",
    "    plt.title(title, fontsize = 55)\n",
    "    \n",
    "    ax2 = ax1.twinx()\n",
    "    ax2.set_ylabel('KOSPI', fontsize=50)\n",
    "    ax2.tick_params(axis='y', labelcolor='black', labelsize=50)\n",
    "\n",
    "    c2 = ax2.plot(pd.DataFrame(kospi['2018' : '2022']), color = color_2, label = 'KOSPI')\n",
    "    c = c1 + c2\n",
    "    ax1.legend(c, ['Portfolio', 'KOSPI'], loc = 'upper left', fontsize = 50)"
   ]
  },
  {
   "cell_type": "markdown",
   "id": "a8a5a399",
   "metadata": {},
   "source": [
    "### Kospi Rolling Result"
   ]
  },
  {
   "cell_type": "code",
   "execution_count": 15,
   "id": "39ebc1f6",
   "metadata": {},
   "outputs": [],
   "source": [
    "def kospi_rolling(data, period):\n",
    "    \n",
    "    kospi_total_ret = [] ; kospi_cagr = [] ; kospi_mdd = []\n",
    "\n",
    "    for i in (range(500)):\n",
    "\n",
    "        a = begin_date_for_weight[12+i] \n",
    "        b = end_date_for_weight[12+period+i]    #  1년일땐 11, 2년일땐 23, 3년일땐 35\n",
    "\n",
    "        if b == end_date_for_weight[-1]:\n",
    "\n",
    "            sub_data = data.loc[a:b]\n",
    "\n",
    "            st = bt.Strategy('',\n",
    "            [   bt.algos.RunOnce(), # 리밸런싱 주기\n",
    "                bt.algos.SelectAll(), #자산군 선택\n",
    "                bt.algos.WeighEqually(), #비중 어케 할래\n",
    "                bt.algos.Rebalance() # 리밸런싱해\n",
    "            ],)\n",
    "\n",
    "            btbtbt = bt.Backtest(st, pd.DataFrame(sub_data), initial_capital = 100000.0, integer_positions = False, commissions=lambda q, p: max(1, abs(q) * 0.0014))\n",
    "            r_bt = bt.run(btbtbt)\n",
    "\n",
    "            kospi_total_ret.append(r_bt.stats.loc['total_return'].values[0])\n",
    "            kospi_cagr.append(r_bt.stats.loc['cagr'].values[0])\n",
    "            kospi_mdd.append(r_bt.stats.loc['max_drawdown'].values[0])\n",
    "\n",
    "            break\n",
    "\n",
    "        else:\n",
    "\n",
    "            sub_data = data.loc[a:b]\n",
    "\n",
    "            st = bt.Strategy('',\n",
    "            [   bt.algos.RunOnce(), # 리밸런싱 주기\n",
    "                bt.algos.SelectAll(), #자산군 선택\n",
    "                bt.algos.WeighEqually(), #비중 어케 할래\n",
    "                bt.algos.Rebalance() # 리밸런싱해\n",
    "            ],)\n",
    "\n",
    "            btbtbt = bt.Backtest(st, pd.DataFrame(sub_data), initial_capital = 100000.0, integer_positions = False, commissions=lambda q, p: max(1, abs(q) * 0.0014))\n",
    "            r_bt = bt.run(btbtbt)\n",
    "\n",
    "            kospi_total_ret.append(r_bt.stats.loc['total_return'].values[0])\n",
    "            kospi_cagr.append(r_bt.stats.loc['cagr'].values[0])\n",
    "            kospi_mdd.append(r_bt.stats.loc['max_drawdown'].values[0])\n",
    "            \n",
    "    return [np.mean(kospi_total_ret), np.mean(kospi_cagr), np.mean(kospi_mdd)]"
   ]
  },
  {
   "cell_type": "markdown",
   "id": "5399770b",
   "metadata": {},
   "source": [
    "### Portfolio Rolling Result"
   ]
  },
  {
   "cell_type": "code",
   "execution_count": 16,
   "id": "0c76279c",
   "metadata": {},
   "outputs": [],
   "source": [
    "def portfolio_rolling(data, weight, period):\n",
    "    \n",
    "    kodex200_total_ret = [] ; kodex200_cagr = [] ; kodex200_mdd = []\n",
    "\n",
    "    for i in (range(500)):\n",
    "\n",
    "        a = begin_date_for_weight[12+i]\n",
    "        b = end_date_for_weight[12+period+i]  # 1년일땐 11, 2년일땐 23, 3년일땐 35\n",
    "\n",
    "        if b == end_date_for_weight[-1]:\n",
    "\n",
    "            sub_data = data.loc[a:b]\n",
    "            sub_weight = weight.loc[a:b]\n",
    "\n",
    "            st = bt.Strategy('',\n",
    "            [   bt.algos.RunOnDate(*sub_weight.index), # 리밸런싱 주기\n",
    "                bt.algos.WeighTarget(sub_weight), #비중 어케 할래\n",
    "                bt.algos.Rebalance() # 리밸런싱해 \n",
    "            ])\n",
    "\n",
    "            btbtbt = bt.Backtest(st, sub_data, initial_capital = 100000.0, integer_positions = False, commissions=lambda q, p: max(1, abs(q) * 0.0014))\n",
    "            r_bt = bt.run(btbtbt)\n",
    "\n",
    "            kodex200_total_ret.append(r_bt.stats.loc['total_return'].values[0])\n",
    "            kodex200_cagr.append(r_bt.stats.loc['cagr'].values[0])\n",
    "            kodex200_mdd.append(r_bt.stats.loc['max_drawdown'].values[0])\n",
    "\n",
    "            break\n",
    "\n",
    "        else:\n",
    "\n",
    "            sub_data = data.loc[a:b]\n",
    "            sub_weight = weight.loc[a:b]\n",
    "\n",
    "            st = bt.Strategy('',\n",
    "            [   bt.algos.RunOnDate(*sub_weight.index), # 리밸런싱 주기\n",
    "                bt.algos.WeighTarget(sub_weight), #비중 어케 할래\n",
    "                bt.algos.Rebalance() # 리밸런싱해 \n",
    "            ])\n",
    "\n",
    "            btbtbt = bt.Backtest(st, sub_data, initial_capital = 100000.0, integer_positions = False, commissions=lambda q, p: max(1, abs(q) * 0.0014))\n",
    "            r_bt = bt.run(btbtbt)\n",
    "\n",
    "            kodex200_total_ret.append(r_bt.stats.loc['total_return'].values[0])\n",
    "            kodex200_cagr.append(r_bt.stats.loc['cagr'].values[0])\n",
    "            kodex200_mdd.append(r_bt.stats.loc['max_drawdown'].values[0])\n",
    "        \n",
    "    return [np.mean(kodex200_total_ret)*100, np.mean(kodex200_cagr)*100, np.mean(kodex200_mdd)*100]"
   ]
  },
  {
   "cell_type": "code",
   "execution_count": 17,
   "id": "79967b66",
   "metadata": {},
   "outputs": [],
   "source": [
    "def result_rolling_fund(data1, data2):\n",
    "    \n",
    "    output = pd.DataFrame([data1, data2], index = ['Portfolio', 'Kospi'], columns = ['Total_ret', 'CAGR', 'MDD'])\n",
    "    output = np.round(output * 100, 2).astype('str') + '%'\n",
    "    \n",
    "    return output"
   ]
  },
  {
   "cell_type": "code",
   "execution_count": 18,
   "id": "a94430c4",
   "metadata": {},
   "outputs": [],
   "source": [
    "def back_test(data, weight):\n",
    "    \n",
    "    st_ = bt.Strategy('',\n",
    "        [   bt.algos.RunOnDate(*weight.index), # 리밸런싱 주기\n",
    "            bt.algos.WeighTarget(weight), #비중 어케 할래\n",
    "            bt.algos.Rebalance() # 리밸런싱해\n",
    "        ])\n",
    "\n",
    "    btbtbt = bt.Backtest(st_, data, initial_capital = 100000.0, integer_positions = False)\n",
    "    r_bt = bt.run(btbtbt)\n",
    "    \n",
    "    return r_bt.prices"
   ]
  },
  {
   "cell_type": "markdown",
   "id": "0e8f722f",
   "metadata": {},
   "source": [
    "## Step1. 모멘텀 전략만을 사용했을 때"
   ]
  },
  {
   "cell_type": "code",
   "execution_count": 19,
   "id": "504dcb4f",
   "metadata": {},
   "outputs": [],
   "source": [
    "# 평균 모멘텀(월간)\n",
    "\n",
    "def momentum_score(data, period, hurdle):\n",
    "    \n",
    "    df = pd.DataFrame(index = end_date_for_weight)\n",
    "    df['Close'] = 0\n",
    "    \n",
    "    for i in range(period):\n",
    "        \n",
    "        df = df + (long.loc[end_date_for_weight].pct_change(i+1) > hurdle) * 1\n",
    "    \n",
    "    df = df / period\n",
    "    \n",
    "    return df"
   ]
  },
  {
   "cell_type": "code",
   "execution_count": 20,
   "id": "87318974",
   "metadata": {},
   "outputs": [],
   "source": [
    "def only_momentum(data, total_weight, period, hurdle):\n",
    "    \n",
    "    long = pd.DataFrame(data)\n",
    "    end_date_for_weight = getDatelist(long, 32)\n",
    "    begin_date_for_weight = getDatelist(long, 1)\n",
    "    \n",
    "    mom = momentum_score(long, period, hurdle)\n",
    "    weight = mom * total_weight\n",
    "    weight = pd.DataFrame(weight, columns = ['Close'])\n",
    "    weight['Cash'] = 1 - weight['Close']\n",
    "#     weight = weight.iloc[:-1,:]\n",
    "#     weight.index = begin_date_for_weight[1:]\n",
    "    \n",
    "    long2 = long.copy()\n",
    "    long2['Cash'] = cd91['rf_rate'] / 252\n",
    "    long2['Cash'] = (1 + long2['Cash']).cumprod()\n",
    "\n",
    "    long2.columns = ['Close', 'Cash']\n",
    "    long2.dropna(inplace = True)\n",
    "    \n",
    "    return long2, weight"
   ]
  },
  {
   "cell_type": "markdown",
   "id": "1136dbe5",
   "metadata": {},
   "source": [
    "## Step2. 모멘텀 전략과 박스권 전략을 병행하였을 때"
   ]
  },
  {
   "cell_type": "markdown",
   "id": "2819a5ee",
   "metadata": {},
   "source": [
    "### Box권 전략"
   ]
  },
  {
   "cell_type": "code",
   "execution_count": 21,
   "id": "4fdb5ac2",
   "metadata": {},
   "outputs": [],
   "source": [
    "def box_weight(data, upper, lower, split_upper, split_lower, invest_weight):\n",
    "    buy_check_empty = [] ; sell_check_empty = []\n",
    "    empty = [] ; price_empty = []\n",
    "    datelist_end_date = getDatelist(data, 32)\n",
    "    weight2 = pd.DataFrame(index = data.index, columns = ['now'])\n",
    "    last_weight = 0 ; buy_check = 0 ; sell_check = 0 \n",
    "    \n",
    "    for j in range(len(datelist_end_date)-1):   # 한 달 조각에 대해 for문 돌리는 것\n",
    "\n",
    "        price = data.loc[datelist_end_date[j]]\n",
    "        price_empty.append(price)\n",
    "        lower_hurdle = price * (1 - np.arange(split_upper, upper + 0.01, 0.01))\n",
    "        upper_hurdle = price * (1 + np.arange(split_upper, upper + 0.01, 0.01))\n",
    "\n",
    "        kospi_upper_bound1 = price * (1+upper)\n",
    "        kospi_upper_bound2 = price * (1+split_upper)\n",
    "        kospi_lower_bound1 = price * (1-split_lower)\n",
    "        kospi_lower_bound2 = price * (1-lower)\n",
    "\n",
    "        weight = pd.DataFrame(data.loc[datelist_end_date[j] : datelist_end_date[j+1]])\n",
    "        weight['now'] = last_weight # 기존에 갖고 있던 비중을 그대로 가져감\n",
    "        #weight['now'] = 0 # 기존 비중 털어버리고 다시 시작\n",
    "        \n",
    "        # 여기 바이 체크 셀 체크 있던 자리임\n",
    "        \n",
    "        empty.append(datelist_end_date[j])\n",
    "\n",
    "        for i in range(len(weight.index)): # Weight라는 조각에 대해 for문 돌리는 것\n",
    "\n",
    "            buy_point = sum(lower_hurdle >= weight.iloc[i,0]) # 매수 점수\n",
    "            sell_point = sum(upper_hurdle <= weight.iloc[i,0]) # 매도 점수\n",
    "            buy_check_empty.append(buy_check) ; sell_check_empty.append(sell_check)\n",
    "            \n",
    "            if (kospi_lower_bound2 < weight.iloc[i,0]) & (weight.iloc[i,0] <= kospi_lower_bound1) & \\\n",
    "            (weight.iloc[i-1,1] <= (1-invest_weight)):\n",
    "                if (buy_point > buy_check):\n",
    "                    if invest_weight*(buy_point-buy_check) > (1 - weight.iloc[i-1,1]):\n",
    "                        weight.iloc[i,1] = 1\n",
    "                        buy_check = buy_point\n",
    "                    else:\n",
    "                        weight.iloc[i,1] = weight.iloc[i-1,1] + invest_weight*(buy_point-buy_check) # 매집구간에 들어온 경우\n",
    "                        buy_check = buy_point\n",
    "                else:\n",
    "                    weight.iloc[i,1] = weight.iloc[i-1,1]\n",
    "\n",
    "            elif (weight.iloc[i,0] <= kospi_lower_bound2):\n",
    "                weight.iloc[i,1] = 0 ; price1 = weight.iloc[i,0] ; price_empty.append(price1)\n",
    "                \n",
    "                kospi_upper_bound1 = price1 * (1 + upper)\n",
    "                kospi_upper_bound2 = price1 * (1 + split_upper)\n",
    "                kospi_lower_bound1 = price1 * (1 - split_lower)\n",
    "                kospi_lower_bound2 = price1 * (1 - lower)\n",
    "                \n",
    "                lower_hurdle = price1 * (1 - np.arange(split_upper, upper + 0.01, 0.01))\n",
    "                upper_hurdle = price1 * (1 + np.arange(split_upper, upper + 0.01, 0.01))\n",
    "                buy_check = 0 ; sell_check = 0 ; empty.append(weight.index[i])\n",
    "\n",
    "            elif (weight.iloc[i,0] >= kospi_upper_bound2) & (weight.iloc[i,0] < kospi_upper_bound1) & \\\n",
    "            (weight.iloc[i-1,1] >= invest_weight):\n",
    "                \n",
    "                if (sell_point > sell_check):\n",
    "                    if invest_weight*(sell_point-sell_check) > (weight.iloc[i-1,1]):\n",
    "                        weight.iloc[i,1] = 0\n",
    "                        sell_check = sell_point\n",
    "                    else:\n",
    "                        weight.iloc[i,1] = weight.iloc[i-1,1] - invest_weight*(sell_point-sell_check)\n",
    "                        sell_check = sell_point\n",
    "\n",
    "                else:\n",
    "                    weight.iloc[i,1] = weight.iloc[i-1,1]\n",
    "\n",
    "            elif (weight.iloc[i,0] >= kospi_upper_bound1):\n",
    "                weight.iloc[i,1] = 0 ; price2 = weight.iloc[i,0] ; price_empty.append(price2)\n",
    "                \n",
    "                kospi_upper_bound1 = price2 * (1 + upper)\n",
    "                kospi_upper_bound2 = price2 * (1 + split_upper)\n",
    "                kospi_lower_bound1 = price2 * (1 - split_lower)\n",
    "                kospi_lower_bound2 = price2 * (1 - lower)\n",
    "                \n",
    "                lower_hurdle = price2 * (1 - np.arange(split_upper, upper + 0.01, 0.01))\n",
    "                upper_hurdle = price2 * (1 + np.arange(split_upper, upper + 0.01, 0.01))\n",
    "                buy_check = 0 ; sell_check = 0 ; empty.append(weight.index[i])\n",
    "                \n",
    "            else:\n",
    "                weight.iloc[i,1] = weight.iloc[i-1,1] # 별 이상 없으면 그 전꺼 사용\n",
    "\n",
    "        weight2.loc[weight.index] = pd.DataFrame(weight['now']) # weight 에 추가한 일일 비중을 원래 전체 데이터 프레임에 덮은 것\n",
    "        last_weight = weight2['now'].loc[datelist_end_date[j+1]] #datelist_end_date에 찍힌 마지막 비중\n",
    "\n",
    "    weight2.dropna(inplace=True)\n",
    "    weight2.columns=['Close']\n",
    "    \n",
    "    return weight2, empty, price_empty"
   ]
  },
  {
   "cell_type": "markdown",
   "id": "555ab7d0",
   "metadata": {},
   "source": [
    "### 모멘텀 전략과 박스권 전략을 병행한 결과"
   ]
  },
  {
   "cell_type": "code",
   "execution_count": 22,
   "id": "ea006125",
   "metadata": {},
   "outputs": [],
   "source": [
    "def long_box_strategy(data, vol_data, box_hurdle, total_weight, box_weight, period, mom_hurdle):\n",
    "    \n",
    "    long = pd.DataFrame(data)\n",
    "    end_date_for_weight = getDatelist(data, 32) # 원래는 data\n",
    "    begin_date_for_weight = getDatelist(data, 1) # 원래는 data\n",
    "    \n",
    "    mom = momentum_score(long, period, mom_hurdle)\n",
    "    box_box = vol_data.loc[end_date_for_weight]\n",
    "    weight = mom * total_weight\n",
    "    weight['box'] = 0\n",
    "    \n",
    "    for date in box_box['2002':].index:\n",
    "    \n",
    "        if (box_box.loc[date]['종가'] < box_hurdle) and (box_box.loc[date]['종가'] > 0):\n",
    "            weight['box'].loc[date] = 0.9 * box_weight #박스권이면 비중 1, 박스권이 아니면 비중 0\n",
    "            weight['Close'].loc[date] = 0 #박스권이니까 기존 비중을 죽임\n",
    "\n",
    "        else:\n",
    "            weight['box'].loc[date] = 0\n",
    "            \n",
    "    for date in weight.index:\n",
    "    \n",
    "        if weight['Close'].loc[date] >= 0:\n",
    "            weight['Cash'] = 1 - weight[['Close','box']].sum(axis=1) \n",
    "            \n",
    "#     weight = weight.iloc[:-1,:]\n",
    "#     weight.index = begin_date_for_weight[1:]\n",
    "    \n",
    "    long2 = long.copy()\n",
    "    long2 = pd.concat([long2, box_st], axis=1) #기존 Kodex200 지수와 박스권일때 만든 지수를 병합\n",
    "\n",
    "    long2['Cash'] = cd91['rf_rate'] / 252\n",
    "    long2['Cash'] = (1 + long2['Cash']).cumprod()\n",
    "\n",
    "    long2.columns = ['Close','box','Cash']\n",
    "    long2.dropna(inplace = True)\n",
    "    \n",
    "    return long2, weight"
   ]
  },
  {
   "cell_type": "code",
   "execution_count": 34,
   "id": "8ee8c172",
   "metadata": {},
   "outputs": [],
   "source": [
    "weight3, empty, price_empty = box_weight(kodex200, 0.1, 0.1, 0.05, 0.05, 1/10) #박스권일때 비중\n",
    "box_st = back_test(long, weight3) # 박스권 지수"
   ]
  },
  {
   "cell_type": "code",
   "execution_count": 35,
   "id": "67fecf99",
   "metadata": {},
   "outputs": [
    {
     "name": "stderr",
     "output_type": "stream",
     "text": [
      "100%|████████████████████████████████████████████████████████████████████████████████████| 3/3 [03:45<00:00, 75.27s/it]\n"
     ]
    }
   ],
   "source": [
    "mom_hurdle = [0.005, 0.0075, 0.01, 0.0125, 0.015, 0.0175, 0.02]\n",
    "rolling_period = [11, 23, 35]\n",
    "result_output = []\n",
    "\n",
    "for j in tqdm(range(len(rolling_period))):\n",
    "\n",
    "    for i in (range(len(mom_hurdle))):\n",
    "\n",
    "        only_mom_df, only_mom_weight_df = only_momentum(kodex200, 0.9, 6, mom_hurdle[i])\n",
    "        long_box_df, long_box_weight_df = long_box_strategy(kodex200, vkospi, 18.5, 0.9, 1, 6, mom_hurdle[i])\n",
    "\n",
    "        result_output.append(np.round(portfolio_rolling(only_mom_df, only_mom_weight_df, rolling_period[j]), 2))\n",
    "        result_output.append(np.round(portfolio_rolling(long_box_df, long_box_weight_df, rolling_period[j]), 2))\n"
   ]
  },
  {
   "cell_type": "code",
   "execution_count": 37,
   "id": "4b72523e",
   "metadata": {},
   "outputs": [
    {
     "data": {
      "text/html": [
       "<div>\n",
       "<style scoped>\n",
       "    .dataframe tbody tr th:only-of-type {\n",
       "        vertical-align: middle;\n",
       "    }\n",
       "\n",
       "    .dataframe tbody tr th {\n",
       "        vertical-align: top;\n",
       "    }\n",
       "\n",
       "    .dataframe thead th {\n",
       "        text-align: right;\n",
       "    }\n",
       "</style>\n",
       "<table border=\"1\" class=\"dataframe\">\n",
       "  <thead>\n",
       "    <tr style=\"text-align: right;\">\n",
       "      <th></th>\n",
       "      <th>0</th>\n",
       "      <th>1</th>\n",
       "      <th>2</th>\n",
       "    </tr>\n",
       "  </thead>\n",
       "  <tbody>\n",
       "    <tr>\n",
       "      <th>0</th>\n",
       "      <td>5.21</td>\n",
       "      <td>5.24</td>\n",
       "      <td>-8.09</td>\n",
       "    </tr>\n",
       "    <tr>\n",
       "      <th>1</th>\n",
       "      <td>7.07</td>\n",
       "      <td>7.11</td>\n",
       "      <td>-6.47</td>\n",
       "    </tr>\n",
       "    <tr>\n",
       "      <th>2</th>\n",
       "      <td>5.59</td>\n",
       "      <td>5.63</td>\n",
       "      <td>-7.62</td>\n",
       "    </tr>\n",
       "    <tr>\n",
       "      <th>3</th>\n",
       "      <td>6.76</td>\n",
       "      <td>6.81</td>\n",
       "      <td>-6.48</td>\n",
       "    </tr>\n",
       "    <tr>\n",
       "      <th>4</th>\n",
       "      <td>4.73</td>\n",
       "      <td>4.76</td>\n",
       "      <td>-7.74</td>\n",
       "    </tr>\n",
       "    <tr>\n",
       "      <th>5</th>\n",
       "      <td>6.10</td>\n",
       "      <td>6.14</td>\n",
       "      <td>-6.48</td>\n",
       "    </tr>\n",
       "    <tr>\n",
       "      <th>6</th>\n",
       "      <td>4.92</td>\n",
       "      <td>4.95</td>\n",
       "      <td>-7.46</td>\n",
       "    </tr>\n",
       "    <tr>\n",
       "      <th>7</th>\n",
       "      <td>6.15</td>\n",
       "      <td>6.19</td>\n",
       "      <td>-6.48</td>\n",
       "    </tr>\n",
       "    <tr>\n",
       "      <th>8</th>\n",
       "      <td>5.06</td>\n",
       "      <td>5.09</td>\n",
       "      <td>-7.27</td>\n",
       "    </tr>\n",
       "    <tr>\n",
       "      <th>9</th>\n",
       "      <td>6.10</td>\n",
       "      <td>6.14</td>\n",
       "      <td>-6.43</td>\n",
       "    </tr>\n",
       "    <tr>\n",
       "      <th>10</th>\n",
       "      <td>5.06</td>\n",
       "      <td>5.09</td>\n",
       "      <td>-7.27</td>\n",
       "    </tr>\n",
       "    <tr>\n",
       "      <th>11</th>\n",
       "      <td>6.10</td>\n",
       "      <td>6.14</td>\n",
       "      <td>-6.43</td>\n",
       "    </tr>\n",
       "    <tr>\n",
       "      <th>12</th>\n",
       "      <td>5.03</td>\n",
       "      <td>5.06</td>\n",
       "      <td>-7.27</td>\n",
       "    </tr>\n",
       "    <tr>\n",
       "      <th>13</th>\n",
       "      <td>6.06</td>\n",
       "      <td>6.10</td>\n",
       "      <td>-6.39</td>\n",
       "    </tr>\n",
       "    <tr>\n",
       "      <th>14</th>\n",
       "      <td>17.06</td>\n",
       "      <td>7.87</td>\n",
       "      <td>-11.78</td>\n",
       "    </tr>\n",
       "    <tr>\n",
       "      <th>15</th>\n",
       "      <td>20.95</td>\n",
       "      <td>9.70</td>\n",
       "      <td>-9.95</td>\n",
       "    </tr>\n",
       "    <tr>\n",
       "      <th>16</th>\n",
       "      <td>17.78</td>\n",
       "      <td>8.22</td>\n",
       "      <td>-11.57</td>\n",
       "    </tr>\n",
       "    <tr>\n",
       "      <th>17</th>\n",
       "      <td>20.51</td>\n",
       "      <td>9.47</td>\n",
       "      <td>-9.97</td>\n",
       "    </tr>\n",
       "    <tr>\n",
       "      <th>18</th>\n",
       "      <td>15.58</td>\n",
       "      <td>7.23</td>\n",
       "      <td>-11.65</td>\n",
       "    </tr>\n",
       "    <tr>\n",
       "      <th>19</th>\n",
       "      <td>18.71</td>\n",
       "      <td>8.69</td>\n",
       "      <td>-9.98</td>\n",
       "    </tr>\n",
       "    <tr>\n",
       "      <th>20</th>\n",
       "      <td>15.48</td>\n",
       "      <td>7.19</td>\n",
       "      <td>-11.37</td>\n",
       "    </tr>\n",
       "    <tr>\n",
       "      <th>21</th>\n",
       "      <td>18.85</td>\n",
       "      <td>8.75</td>\n",
       "      <td>-9.99</td>\n",
       "    </tr>\n",
       "    <tr>\n",
       "      <th>22</th>\n",
       "      <td>15.76</td>\n",
       "      <td>7.33</td>\n",
       "      <td>-11.23</td>\n",
       "    </tr>\n",
       "    <tr>\n",
       "      <th>23</th>\n",
       "      <td>18.72</td>\n",
       "      <td>8.69</td>\n",
       "      <td>-9.95</td>\n",
       "    </tr>\n",
       "    <tr>\n",
       "      <th>24</th>\n",
       "      <td>15.76</td>\n",
       "      <td>7.33</td>\n",
       "      <td>-11.23</td>\n",
       "    </tr>\n",
       "    <tr>\n",
       "      <th>25</th>\n",
       "      <td>18.72</td>\n",
       "      <td>8.69</td>\n",
       "      <td>-9.95</td>\n",
       "    </tr>\n",
       "    <tr>\n",
       "      <th>26</th>\n",
       "      <td>15.68</td>\n",
       "      <td>7.29</td>\n",
       "      <td>-11.24</td>\n",
       "    </tr>\n",
       "    <tr>\n",
       "      <th>27</th>\n",
       "      <td>18.62</td>\n",
       "      <td>8.65</td>\n",
       "      <td>-9.96</td>\n",
       "    </tr>\n",
       "    <tr>\n",
       "      <th>28</th>\n",
       "      <td>26.13</td>\n",
       "      <td>8.04</td>\n",
       "      <td>-13.87</td>\n",
       "    </tr>\n",
       "    <tr>\n",
       "      <th>29</th>\n",
       "      <td>32.85</td>\n",
       "      <td>9.93</td>\n",
       "      <td>-12.11</td>\n",
       "    </tr>\n",
       "    <tr>\n",
       "      <th>30</th>\n",
       "      <td>27.41</td>\n",
       "      <td>8.41</td>\n",
       "      <td>-13.71</td>\n",
       "    </tr>\n",
       "    <tr>\n",
       "      <th>31</th>\n",
       "      <td>31.98</td>\n",
       "      <td>9.68</td>\n",
       "      <td>-12.11</td>\n",
       "    </tr>\n",
       "    <tr>\n",
       "      <th>32</th>\n",
       "      <td>23.87</td>\n",
       "      <td>7.39</td>\n",
       "      <td>-13.73</td>\n",
       "    </tr>\n",
       "    <tr>\n",
       "      <th>33</th>\n",
       "      <td>29.11</td>\n",
       "      <td>8.88</td>\n",
       "      <td>-12.11</td>\n",
       "    </tr>\n",
       "    <tr>\n",
       "      <th>34</th>\n",
       "      <td>23.85</td>\n",
       "      <td>7.39</td>\n",
       "      <td>-13.71</td>\n",
       "    </tr>\n",
       "    <tr>\n",
       "      <th>35</th>\n",
       "      <td>29.36</td>\n",
       "      <td>8.96</td>\n",
       "      <td>-12.11</td>\n",
       "    </tr>\n",
       "    <tr>\n",
       "      <th>36</th>\n",
       "      <td>24.33</td>\n",
       "      <td>7.53</td>\n",
       "      <td>-13.69</td>\n",
       "    </tr>\n",
       "    <tr>\n",
       "      <th>37</th>\n",
       "      <td>29.18</td>\n",
       "      <td>8.90</td>\n",
       "      <td>-12.11</td>\n",
       "    </tr>\n",
       "    <tr>\n",
       "      <th>38</th>\n",
       "      <td>24.33</td>\n",
       "      <td>7.53</td>\n",
       "      <td>-13.69</td>\n",
       "    </tr>\n",
       "    <tr>\n",
       "      <th>39</th>\n",
       "      <td>29.18</td>\n",
       "      <td>8.90</td>\n",
       "      <td>-12.11</td>\n",
       "    </tr>\n",
       "    <tr>\n",
       "      <th>40</th>\n",
       "      <td>24.21</td>\n",
       "      <td>7.49</td>\n",
       "      <td>-13.69</td>\n",
       "    </tr>\n",
       "    <tr>\n",
       "      <th>41</th>\n",
       "      <td>29.02</td>\n",
       "      <td>8.86</td>\n",
       "      <td>-12.11</td>\n",
       "    </tr>\n",
       "  </tbody>\n",
       "</table>\n",
       "</div>"
      ],
      "text/plain": [
       "        0     1      2\n",
       "0    5.21  5.24  -8.09\n",
       "1    7.07  7.11  -6.47\n",
       "2    5.59  5.63  -7.62\n",
       "3    6.76  6.81  -6.48\n",
       "4    4.73  4.76  -7.74\n",
       "5    6.10  6.14  -6.48\n",
       "6    4.92  4.95  -7.46\n",
       "7    6.15  6.19  -6.48\n",
       "8    5.06  5.09  -7.27\n",
       "9    6.10  6.14  -6.43\n",
       "10   5.06  5.09  -7.27\n",
       "11   6.10  6.14  -6.43\n",
       "12   5.03  5.06  -7.27\n",
       "13   6.06  6.10  -6.39\n",
       "14  17.06  7.87 -11.78\n",
       "15  20.95  9.70  -9.95\n",
       "16  17.78  8.22 -11.57\n",
       "17  20.51  9.47  -9.97\n",
       "18  15.58  7.23 -11.65\n",
       "19  18.71  8.69  -9.98\n",
       "20  15.48  7.19 -11.37\n",
       "21  18.85  8.75  -9.99\n",
       "22  15.76  7.33 -11.23\n",
       "23  18.72  8.69  -9.95\n",
       "24  15.76  7.33 -11.23\n",
       "25  18.72  8.69  -9.95\n",
       "26  15.68  7.29 -11.24\n",
       "27  18.62  8.65  -9.96\n",
       "28  26.13  8.04 -13.87\n",
       "29  32.85  9.93 -12.11\n",
       "30  27.41  8.41 -13.71\n",
       "31  31.98  9.68 -12.11\n",
       "32  23.87  7.39 -13.73\n",
       "33  29.11  8.88 -12.11\n",
       "34  23.85  7.39 -13.71\n",
       "35  29.36  8.96 -12.11\n",
       "36  24.33  7.53 -13.69\n",
       "37  29.18  8.90 -12.11\n",
       "38  24.33  7.53 -13.69\n",
       "39  29.18  8.90 -12.11\n",
       "40  24.21  7.49 -13.69\n",
       "41  29.02  8.86 -12.11"
      ]
     },
     "execution_count": 37,
     "metadata": {},
     "output_type": "execute_result"
    }
   ],
   "source": [
    "pd.DataFrame(result_output)"
   ]
  },
  {
   "cell_type": "code",
   "execution_count": 26,
   "id": "ae9cc57f",
   "metadata": {},
   "outputs": [
    {
     "ename": "NameError",
     "evalue": "name 'stop' is not defined",
     "output_type": "error",
     "traceback": [
      "\u001b[1;31m---------------------------------------------------------------------------\u001b[0m",
      "\u001b[1;31mNameError\u001b[0m                                 Traceback (most recent call last)",
      "\u001b[1;32m<ipython-input-26-4f76a9dad686>\u001b[0m in \u001b[0;36m<module>\u001b[1;34m\u001b[0m\n\u001b[1;32m----> 1\u001b[1;33m \u001b[0mstop\u001b[0m\u001b[1;33m\u001b[0m\u001b[1;33m\u001b[0m\u001b[0m\n\u001b[0m",
      "\u001b[1;31mNameError\u001b[0m: name 'stop' is not defined"
     ]
    }
   ],
   "source": [
    "stop"
   ]
  },
  {
   "cell_type": "code",
   "execution_count": null,
   "id": "39f5e09a",
   "metadata": {},
   "outputs": [],
   "source": []
  },
  {
   "cell_type": "code",
   "execution_count": null,
   "id": "4d635fc0",
   "metadata": {},
   "outputs": [],
   "source": []
  },
  {
   "cell_type": "code",
   "execution_count": null,
   "id": "6d3eb2da",
   "metadata": {},
   "outputs": [],
   "source": []
  },
  {
   "cell_type": "code",
   "execution_count": null,
   "id": "babc42fa",
   "metadata": {},
   "outputs": [],
   "source": []
  },
  {
   "cell_type": "code",
   "execution_count": null,
   "id": "9834c6ca",
   "metadata": {},
   "outputs": [],
   "source": [
    "# mom_hurdle = [0.005, 0.0075, 0.01, 0.0125, 0.015, 0.0175, 0.02]\n",
    "# result_output = []\n",
    "\n",
    "# for i in tqdm(range(len(mom_hurdle))):\n",
    "\n",
    "#     only_mom_df, only_mom_weight_df = only_momentum(kodex200, 0.9, 6, mom_hurdle[i])\n",
    "#     long_box_df, long_box_weight_df = long_box_strategy(kodex200, vkospi, 18.5, 0.9, 1, 6, mom_hurdle[i])\n",
    "\n",
    "#     result_output.append(result(only_mom_df, only_mom_weight_df))\n",
    "#     result_output.append(result(long_box_df, long_box_weight_df))"
   ]
  },
  {
   "cell_type": "code",
   "execution_count": null,
   "id": "27d3226d",
   "metadata": {},
   "outputs": [],
   "source": []
  },
  {
   "cell_type": "code",
   "execution_count": null,
   "id": "681c8da7",
   "metadata": {},
   "outputs": [],
   "source": []
  },
  {
   "cell_type": "code",
   "execution_count": null,
   "id": "a20bdf7b",
   "metadata": {},
   "outputs": [],
   "source": []
  },
  {
   "cell_type": "code",
   "execution_count": null,
   "id": "8beaf1b0",
   "metadata": {},
   "outputs": [],
   "source": [
    "result_once(pd.DataFrame(kospi))"
   ]
  },
  {
   "cell_type": "code",
   "execution_count": null,
   "id": "1dad087f",
   "metadata": {},
   "outputs": [],
   "source": [
    "stop"
   ]
  },
  {
   "cell_type": "code",
   "execution_count": null,
   "id": "bd07a97c",
   "metadata": {},
   "outputs": [],
   "source": [
    "long_box_df, long_box_weight_df = long_box_strategy(kodex200, vkospi, 18.5, 0.9, 1, 6, 0.005)"
   ]
  },
  {
   "cell_type": "code",
   "execution_count": null,
   "id": "593fbc19",
   "metadata": {},
   "outputs": [],
   "source": []
  },
  {
   "cell_type": "code",
   "execution_count": null,
   "id": "58a9615b",
   "metadata": {},
   "outputs": [],
   "source": []
  },
  {
   "cell_type": "code",
   "execution_count": null,
   "id": "f2f9e77f",
   "metadata": {},
   "outputs": [],
   "source": [
    "rolling_period = [11, 23, 35]\n",
    "kospi_output = []\n",
    "\n",
    "for j in tqdm(range(len(rolling_period))):\n",
    "\n",
    "    kospi_output.append(np.round(kospi_rolling(kospi, rolling_period[j]), 4)*100)"
   ]
  },
  {
   "cell_type": "code",
   "execution_count": null,
   "id": "44a173a6",
   "metadata": {},
   "outputs": [],
   "source": [
    "pd.DataFrame(kospi_output)"
   ]
  },
  {
   "cell_type": "code",
   "execution_count": null,
   "id": "3ddd55c7",
   "metadata": {},
   "outputs": [],
   "source": []
  },
  {
   "cell_type": "code",
   "execution_count": null,
   "id": "28e92524",
   "metadata": {},
   "outputs": [],
   "source": [
    "ads"
   ]
  },
  {
   "cell_type": "code",
   "execution_count": null,
   "id": "2e44c8ef",
   "metadata": {},
   "outputs": [],
   "source": [
    "only_mom_df, only_mom_weight_df = only_momentum(kodex200, 0.9, 6, 0.005)"
   ]
  },
  {
   "cell_type": "code",
   "execution_count": 38,
   "id": "19f129f3",
   "metadata": {},
   "outputs": [],
   "source": [
    "weight3, empty, price_empty = box_weight(kodex200, 0.08, 0.08, 0.04, 0.04, 1/10) #박스권일때 비중\n",
    "box_st = back_test(long, weight3) # 박스권 지수\n",
    "long_box_df, long_box_weight_df = long_box_strategy(kodex200, vkospi, 18.5, 0.9, 1, 6, 0.005)"
   ]
  },
  {
   "cell_type": "code",
   "execution_count": 39,
   "id": "8b016ed8",
   "metadata": {},
   "outputs": [],
   "source": [
    "kospi = kospi.loc['2018':'2022']\n",
    "kospi = kospi / kospi[0] * 100"
   ]
  },
  {
   "cell_type": "code",
   "execution_count": 40,
   "id": "a83fe9a5",
   "metadata": {},
   "outputs": [],
   "source": [
    "x = back_test(long_box_df, long_box_weight_df)\n",
    "x = x.loc['2018':'2022']\n",
    "x = x / x.iloc[0,0] * 100"
   ]
  },
  {
   "cell_type": "code",
   "execution_count": 41,
   "id": "7cf2b5e9",
   "metadata": {},
   "outputs": [
    {
     "data": {
      "text/plain": [
       "<matplotlib.legend.Legend at 0x1ed089685e0>"
      ]
     },
     "execution_count": 41,
     "metadata": {},
     "output_type": "execute_result"
    },
    {
     "data": {
      "image/png": "[encoded data removed]",
      "text/plain": [
       "<Figure size 1440x576 with 1 Axes>"
      ]
     },
     "metadata": {
      "needs_background": "light"
     },
     "output_type": "display_data"
    }
   ],
   "source": [
    "plt.figure(figsize=(20,8))\n",
    "plt.plot(x, label='Portfolio')\n",
    "plt.plot(kospi, label='KOSPI')\n",
    "plt.xticks(fontsize = 12)\n",
    "plt.yticks(fontsize = 12)\n",
    "plt.legend(loc='upper left', fontsize = 16)"
   ]
  },
  {
   "cell_type": "code",
   "execution_count": null,
   "id": "acafd654",
   "metadata": {},
   "outputs": [],
   "source": []
  },
  {
   "cell_type": "code",
   "execution_count": null,
   "id": "5046de0f",
   "metadata": {},
   "outputs": [],
   "source": [
    "graph(back_test(long_box_df, long_box_weight_df), '최근 5년, 기준선 0.5%')"
   ]
  },
  {
   "cell_type": "code",
   "execution_count": null,
   "id": "9eef66ba",
   "metadata": {},
   "outputs": [],
   "source": []
  },
  {
   "cell_type": "code",
   "execution_count": null,
   "id": "e60c7811",
   "metadata": {},
   "outputs": [],
   "source": []
  },
  {
   "cell_type": "code",
   "execution_count": null,
   "id": "d72949ea",
   "metadata": {},
   "outputs": [],
   "source": []
  },
  {
   "cell_type": "code",
   "execution_count": null,
   "id": "8b547764",
   "metadata": {},
   "outputs": [],
   "source": []
  },
  {
   "cell_type": "code",
   "execution_count": null,
   "id": "fce78c81",
   "metadata": {},
   "outputs": [],
   "source": [
    "result_once(pd.DataFrame(kospi))"
   ]
  },
  {
   "cell_type": "code",
   "execution_count": null,
   "id": "b677b4e4",
   "metadata": {},
   "outputs": [],
   "source": [
    "kospi_month_df = kospi.loc[end_date_for_weight]\n",
    "kospi_month_df = kospi_month_df.loc['2017-12':]\n",
    "kospi_month_ret_df = kospi_month_df.pct_change()\n",
    "kospi_month_ret_df = kospi_month_ret_df.dropna()"
   ]
  },
  {
   "cell_type": "code",
   "execution_count": null,
   "id": "dd9dcf35",
   "metadata": {},
   "outputs": [],
   "source": [
    "ret_list = [0.005, 0.006, 0.007, 0.008, 0.009, 0.01]\n",
    "\n",
    "for i in range(len(ret_list)):\n",
    "    \n",
    "    num = sum(kospi_month_ret_df > ret_list[i])\n",
    "    print(\"{}%보다 수익률이 높았던 횟수는 전체 {}번 중에서 {}번({}%) 입니다.\".format(np.round(ret_list[i]*100, 1), \\\n",
    "                                                               len(kospi_month_ret_df), num, int(num/len(kospi_month_ret_df)*100)))"
   ]
  },
  {
   "cell_type": "code",
   "execution_count": null,
   "id": "be60dd28",
   "metadata": {},
   "outputs": [],
   "source": [
    "(1.0521)**(1/12)"
   ]
  },
  {
   "cell_type": "code",
   "execution_count": null,
   "id": "470cda93",
   "metadata": {},
   "outputs": [],
   "source": [
    "result(only_mom_df, only_mom_weight_df)"
   ]
  },
  {
   "cell_type": "code",
   "execution_count": null,
   "id": "a7fdbf5c",
   "metadata": {},
   "outputs": [],
   "source": [
    "only_mom_df, only_mom_weight_df = only_momentum(kodex200, 0.9, 6, mom_hurdle[i])\n",
    "long_box_df, long_box_weight_df = long_box_strategy(kodex200, vkospi, 18.5, 0.9, 0.9, 6, mom_hurdle[i])"
   ]
  },
  {
   "cell_type": "code",
   "execution_count": null,
   "id": "986edf7d",
   "metadata": {},
   "outputs": [],
   "source": []
  },
  {
   "cell_type": "code",
   "execution_count": null,
   "id": "313057d5",
   "metadata": {},
   "outputs": [],
   "source": []
  },
  {
   "cell_type": "code",
   "execution_count": null,
   "id": "cc34764c",
   "metadata": {},
   "outputs": [],
   "source": []
  },
  {
   "cell_type": "code",
   "execution_count": null,
   "id": "a4090ca5",
   "metadata": {},
   "outputs": [],
   "source": []
  },
  {
   "cell_type": "code",
   "execution_count": null,
   "id": "6ab8c712",
   "metadata": {},
   "outputs": [],
   "source": []
  },
  {
   "cell_type": "code",
   "execution_count": null,
   "id": "c9cc46d9",
   "metadata": {},
   "outputs": [],
   "source": []
  },
  {
   "cell_type": "code",
   "execution_count": null,
   "id": "d850f0ce",
   "metadata": {},
   "outputs": [],
   "source": []
  },
  {
   "cell_type": "code",
   "execution_count": null,
   "id": "e2959794",
   "metadata": {},
   "outputs": [],
   "source": []
  },
  {
   "cell_type": "code",
   "execution_count": null,
   "id": "260b79cf",
   "metadata": {},
   "outputs": [],
   "source": []
  },
  {
   "cell_type": "code",
   "execution_count": null,
   "id": "bce872ab",
   "metadata": {},
   "outputs": [],
   "source": []
  },
  {
   "cell_type": "code",
   "execution_count": null,
   "id": "90a32990",
   "metadata": {},
   "outputs": [],
   "source": []
  },
  {
   "cell_type": "code",
   "execution_count": null,
   "id": "3462d9ba",
   "metadata": {},
   "outputs": [],
   "source": []
  },
  {
   "cell_type": "code",
   "execution_count": null,
   "id": "94b76a6f",
   "metadata": {},
   "outputs": [],
   "source": []
  },
  {
   "cell_type": "code",
   "execution_count": null,
   "id": "70f6da4d",
   "metadata": {},
   "outputs": [],
   "source": []
  },
  {
   "cell_type": "code",
   "execution_count": null,
   "id": "4026e873",
   "metadata": {},
   "outputs": [],
   "source": []
  },
  {
   "cell_type": "code",
   "execution_count": null,
   "id": "cb89d8bc",
   "metadata": {},
   "outputs": [],
   "source": []
  },
  {
   "cell_type": "code",
   "execution_count": null,
   "id": "71ad69ee",
   "metadata": {},
   "outputs": [],
   "source": []
  },
  {
   "cell_type": "code",
   "execution_count": null,
   "id": "c40bb0df",
   "metadata": {},
   "outputs": [],
   "source": []
  },
  {
   "cell_type": "code",
   "execution_count": null,
   "id": "a82546bf",
   "metadata": {},
   "outputs": [],
   "source": [
    "stop"
   ]
  },
  {
   "cell_type": "code",
   "execution_count": null,
   "id": "c2db184e",
   "metadata": {},
   "outputs": [],
   "source": []
  },
  {
   "cell_type": "code",
   "execution_count": null,
   "id": "4ac176a9",
   "metadata": {},
   "outputs": [],
   "source": []
  },
  {
   "cell_type": "code",
   "execution_count": null,
   "id": "3e966880",
   "metadata": {},
   "outputs": [],
   "source": []
  },
  {
   "cell_type": "code",
   "execution_count": null,
   "id": "b933aef6",
   "metadata": {},
   "outputs": [],
   "source": []
  },
  {
   "cell_type": "code",
   "execution_count": null,
   "id": "fea9ba57",
   "metadata": {},
   "outputs": [],
   "source": []
  },
  {
   "cell_type": "markdown",
   "id": "b5cbf47a",
   "metadata": {},
   "source": [
    "## Step3. Risk Management"
   ]
  },
  {
   "cell_type": "markdown",
   "id": "49f8ead5",
   "metadata": {},
   "source": [
    "### S&P500과 NASDAQ을 이용한 주식 포지션 조절 방법\n",
    "\n",
    "- 나스닥 지수 120일 이동평균(최근 데이터에 가중치)\n",
    "- 전날 이격도가 94%보다 높은 상태에서 오늘 종가가 94%이하로 떨어진 경우 매도 시그널\n",
    "- S&P500, NASDAQ에서 모두 매도시그널이 포착되면 그 날짜에 대한 비중은 모두 현금 100%로 수정"
   ]
  },
  {
   "cell_type": "code",
   "execution_count": null,
   "id": "8d2ab9bb",
   "metadata": {},
   "outputs": [],
   "source": [
    "def control_risk(sp500, nasdaq, down, up):\n",
    "    \n",
    "    sp500_copy = sp500.copy()\n",
    "    nasdaq_copy = nasdaq.copy()\n",
    "    \n",
    "    for i in range(len(sp500_copy)-1):\n",
    "    \n",
    "        if (sp500_copy.iloc[i, 0] > down) and (sp500_copy.iloc[i+1, 0] <= down):\n",
    "            sp500_copy['SP500_BuySell'][i+1] = -1\n",
    "        elif (sp500_copy.iloc[i, 0] < up) and (sp500_copy.iloc[i+1, 0] >= up):\n",
    "            sp500_copy['SP500_BuySell'][i+1] = 1\n",
    "        else:\n",
    "            pass\n",
    "        \n",
    "    for i in range(len(nasdaq_copy)-1):\n",
    "    \n",
    "        if (nasdaq_copy.iloc[i, 0] > down) and (nasdaq_copy.iloc[i+1, 0] <= down):\n",
    "            nasdaq_copy['NASDAQ_BuySell'][i+1] = -1\n",
    "        elif (nasdaq_copy.iloc[i, 0] < up) and (nasdaq_copy.iloc[i+1, 0] >= up):\n",
    "            nasdaq_copy['NASDAQ_BuySell'][i+1] = 1\n",
    "        else:\n",
    "            pass\n",
    "        \n",
    "    total_df = pd.concat([sp500_copy[['Close', 'SP500_BuySell']], \\\n",
    "                           nasdaq_copy[['Close', 'NASDAQ_BuySell']]], axis = 1)\n",
    "    total_df = total_df.dropna()\n",
    "    total_df['BuySell'] = total_df['SP500_BuySell'] + total_df['NASDAQ_BuySell']\n",
    "    total_df['BuySell'] = total_df['BuySell'].shift()\n",
    "    total_df = total_df.loc[kodex200.index[0]:]\n",
    "    \n",
    "    sell_sign = total_df[(total_df['BuySell'] == -2) | (total_df['BuySell'] == -1)]\n",
    "    sample = pd.DataFrame(index = sell_sign.index, columns = ['Close', 'box', 'Cash'])\n",
    "    sample = pd.concat([long_box_weight_df, sample], ignore_index = False, axis=1)\n",
    "    sample = sample.iloc[:, 0:3]\n",
    "    \n",
    "    for i in range(len(sell_sign)):\n",
    "    \n",
    "        if sum(sample.loc[sell_sign.index[i]]) > 0:\n",
    "\n",
    "            if sell_sign['BuySell'][i] == -1:\n",
    "                point = list(sample.index).index(sell_sign.index[i])\n",
    "                sample.iloc[point, 0] = sample.iloc[point, 0] # 여기서 주식 비중을 줄이게 되면 전체 리턴이 줄어듬\n",
    "                sample.iloc[point, 1] = sample.iloc[point, 1] \n",
    "                sample.iloc[point, 2] = sample.iloc[point, 2]\n",
    "\n",
    "            else:\n",
    "                point = list(sample.index).index(sell_sign.index[i])\n",
    "                sample.iloc[point, 0] = 0\n",
    "                sample.iloc[point, 1] = 0\n",
    "                sample.iloc[point, 2] = 1\n",
    "\n",
    "        else:\n",
    "\n",
    "            if sell_sign['BuySell'][i] == -1:\n",
    "                point = list(sample.index).index(sell_sign.index[i])\n",
    "                sample.iloc[point, 0] = sample.iloc[point-1, 0]\n",
    "                sample.iloc[point, 1] = sample.iloc[point-1, 1] \n",
    "                sample.iloc[point, 2] = sample.iloc[point-1, 2] \n",
    "                \n",
    "            else:\n",
    "                point = list(sample.index).index(sell_sign.index[i])\n",
    "                sample.iloc[point, 0] = 0\n",
    "                sample.iloc[point, 1] = 0\n",
    "                sample.iloc[point, 2] = 1\n",
    "    \n",
    "    sample = sample.loc['2002-11':]\n",
    "    \n",
    "    return sample"
   ]
  },
  {
   "cell_type": "code",
   "execution_count": null,
   "id": "049632c7",
   "metadata": {},
   "outputs": [],
   "source": [
    "# down, up = 94, 100\n",
    "# sp500_copy = sp500.copy()\n",
    "# nasdaq_copy = nasdaq.copy()\n",
    "\n",
    "# for i in range(len(sp500_copy)-1):\n",
    "\n",
    "#     if (sp500_copy.iloc[i, 3] > down) and (sp500_copy.iloc[i+1, 3] <= down):\n",
    "#         sp500_copy['SP500_BuySell'][i+1] = -1\n",
    "#     elif (sp500_copy.iloc[i, 3] < up) and (sp500_copy.iloc[i+1, 3] >= up):\n",
    "#         sp500_copy['SP500_BuySell'][i+1] = 1\n",
    "#     else:\n",
    "#         pass\n",
    "\n",
    "# for i in range(len(nasdaq_copy)-1):\n",
    "\n",
    "#     if (nasdaq_copy.iloc[i, 3] > down) and (nasdaq_copy.iloc[i+1, 3] <= down):\n",
    "#         nasdaq_copy['NASDAQ_BuySell'][i+1] = -1\n",
    "#     elif (nasdaq_copy.iloc[i, 3] < up) and (nasdaq_copy.iloc[i+1, 3] >= up):\n",
    "#         nasdaq_copy['NASDAQ_BuySell'][i+1] = 1\n",
    "#     else:\n",
    "#         pass\n",
    "\n",
    "# total_df = pd.concat([sp500_copy[['SP500_Close', 'SP500_Disparity', 'SP500_BuySell']], \\\n",
    "#                        nasdaq_copy[['NASDAQ_Close', 'NASDAQ_Disparity', 'NASDAQ_BuySell']]], axis = 1)\n",
    "# total_df = total_df.dropna()\n",
    "# total_df['BuySell'] = total_df['SP500_BuySell'] + total_df['NASDAQ_BuySell']\n",
    "# #total_df['BuySell'] = total_df['BuySell'].shift()\n",
    "# total_df = total_df.loc['2002-10-14':'2023-01-31']\n",
    "\n",
    "# sell_sign = total_df[(total_df['BuySell'] == -2) | (total_df['BuySell'] == -1)]"
   ]
  },
  {
   "cell_type": "code",
   "execution_count": null,
   "id": "81fc0f2f",
   "metadata": {},
   "outputs": [],
   "source": [
    "control_weight = control_risk(sp500_disparity, nasdaq_disparity, 94, 100)"
   ]
  },
  {
   "cell_type": "code",
   "execution_count": null,
   "id": "f2d652d8",
   "metadata": {
    "scrolled": true
   },
   "outputs": [],
   "source": [
    "result(long_box_df, control_weight)"
   ]
  },
  {
   "cell_type": "code",
   "execution_count": null,
   "id": "c9cb5f21",
   "metadata": {},
   "outputs": [],
   "source": [
    "result_rolling_fund(portfolio_rolling(long_box_df, control_weight), kospi_rolling(kospi))"
   ]
  },
  {
   "cell_type": "code",
   "execution_count": null,
   "id": "ec9afca8",
   "metadata": {},
   "outputs": [],
   "source": [
    "graph(back_test(long_box_df, control_weight), 'Mixed with Momentum, Box Strategy and Risk Management')"
   ]
  },
  {
   "cell_type": "code",
   "execution_count": null,
   "id": "d2058b22",
   "metadata": {},
   "outputs": [],
   "source": [
    "control_weight"
   ]
  },
  {
   "cell_type": "code",
   "execution_count": null,
   "id": "e3f93d9b",
   "metadata": {},
   "outputs": [],
   "source": [
    "asddads"
   ]
  },
  {
   "cell_type": "code",
   "execution_count": null,
   "id": "fc6bed82",
   "metadata": {},
   "outputs": [],
   "source": [
    "recent_df = long_box_df.loc[recent_weight.index[0] : recent_weight.index[-1]]"
   ]
  },
  {
   "cell_type": "code",
   "execution_count": null,
   "id": "b414dcc6",
   "metadata": {},
   "outputs": [],
   "source": [
    "recent_df"
   ]
  },
  {
   "cell_type": "code",
   "execution_count": null,
   "id": "06ba9ba4",
   "metadata": {},
   "outputs": [],
   "source": [
    "recent_weight = long_box_weight_df.tail(13) ; recent_weight"
   ]
  },
  {
   "cell_type": "code",
   "execution_count": null,
   "id": "e25e4486",
   "metadata": {},
   "outputs": [],
   "source": [
    "recent_weight.index[1]"
   ]
  },
  {
   "cell_type": "code",
   "execution_count": null,
   "id": "5b989e71",
   "metadata": {},
   "outputs": [],
   "source": [
    "recent_df.loc[recent_weight.index[0] : recent_weight.index[1]]"
   ]
  },
  {
   "cell_type": "code",
   "execution_count": null,
   "id": "9e80fb26",
   "metadata": {},
   "outputs": [],
   "source": [
    "recent_df"
   ]
  },
  {
   "cell_type": "code",
   "execution_count": null,
   "id": "6362c091",
   "metadata": {},
   "outputs": [],
   "source": [
    "recent_weight.index[0].strftime('%Y-%m')"
   ]
  },
  {
   "cell_type": "code",
   "execution_count": null,
   "id": "936da2cf",
   "metadata": {},
   "outputs": [],
   "source": [
    "long_box_weight_df"
   ]
  },
  {
   "cell_type": "code",
   "execution_count": null,
   "id": "c716a4fe",
   "metadata": {},
   "outputs": [],
   "source": [
    "recent_weight = long_box_weight_df.iloc[-13:-1, :]"
   ]
  },
  {
   "cell_type": "code",
   "execution_count": null,
   "id": "4dc094f8",
   "metadata": {},
   "outputs": [],
   "source": [
    "recent_weight"
   ]
  },
  {
   "cell_type": "code",
   "execution_count": null,
   "id": "4e5cc4d5",
   "metadata": {},
   "outputs": [],
   "source": []
  },
  {
   "cell_type": "code",
   "execution_count": null,
   "id": "dcfc7b03",
   "metadata": {},
   "outputs": [],
   "source": [
    "temp_df"
   ]
  },
  {
   "cell_type": "markdown",
   "id": "c5d29c69",
   "metadata": {},
   "source": [
    "## 최근 1년 PT자료에 관한 코드"
   ]
  },
  {
   "cell_type": "code",
   "execution_count": null,
   "id": "cf4085d5",
   "metadata": {},
   "outputs": [],
   "source": [
    "recent_weight = long_box_weight_df.iloc[-13:-1, :]\n",
    "recent_df = long_box_df.loc[recent_weight.index[0] : '2023-02-28']\n",
    "\n",
    "portfolio_empty = []\n",
    "\n",
    "for i in range(len(recent_weight)):\n",
    "    \n",
    "    temp_df = recent_df.loc[recent_weight.index[i].strftime('%Y-%m')]\n",
    "    temp_result = result(temp_df, pd.DataFrame(recent_weight.iloc[i, :]).T).values\n",
    "    temp_result = np.ravel(temp_result, order='C')\n",
    "    portfolio_empty.append(temp_result)\n",
    "    \n",
    "#     if i == len(recent_weight)-2:\n",
    "        \n",
    "#         temp_df = recent_df.loc[recent_weight.index[i] : '2023-01-31']\n",
    "#         temp_result = result_once(temp_df).values\n",
    "#         temp_result = np.ravel(temp_result, order='C')\n",
    "#         portfolio_empty.append(temp_result)"
   ]
  },
  {
   "cell_type": "code",
   "execution_count": null,
   "id": "857b20cf",
   "metadata": {},
   "outputs": [],
   "source": [
    "portfolio_empty"
   ]
  },
  {
   "cell_type": "code",
   "execution_count": null,
   "id": "ff6e9c5c",
   "metadata": {},
   "outputs": [],
   "source": [
    "recent_weight = long_box_weight_df.iloc[-13:-1, :]\n",
    "recent_kospi_df = pd.DataFrame(kospi.loc[recent_weight.index[0] : '2023-02-28'])\n",
    "\n",
    "kospi_empty = []\n",
    "\n",
    "for i in range(len(recent_weight)):\n",
    "    \n",
    "    temp_kospi_df = recent_kospi_df.loc[recent_weight.index[i].strftime('%Y-%m')]\n",
    "    temp_kospi_result = result_once(temp_kospi_df).values\n",
    "    temp_kospi_result = np.ravel(temp_kospi_result, order='C')\n",
    "    kospi_empty.append(temp_kospi_result)\n"
   ]
  },
  {
   "cell_type": "code",
   "execution_count": null,
   "id": "dc0bb8a6",
   "metadata": {},
   "outputs": [],
   "source": []
  },
  {
   "cell_type": "code",
   "execution_count": null,
   "id": "d0cdb566",
   "metadata": {},
   "outputs": [],
   "source": []
  },
  {
   "cell_type": "code",
   "execution_count": null,
   "id": "46ff45fd",
   "metadata": {},
   "outputs": [],
   "source": []
  },
  {
   "cell_type": "code",
   "execution_count": null,
   "id": "959fe798",
   "metadata": {},
   "outputs": [],
   "source": [
    "recent_weight = long_box_weight_df.tail(12)\n",
    "recent_kospi_df = pd.DataFrame(kospi.loc[recent_weight.index[0] : '2023-01-31'])\n",
    "\n",
    "kospi_empty = []\n",
    "\n",
    "for i in range(len(recent_weight)-1):\n",
    "    \n",
    "    temp_kospi_df = recent_kospi_df.loc[recent_weight.index[i] : recent_weight.index[i+1]]\n",
    "    temp_kospi_result = result_once(temp_kospi_df).values\n",
    "    temp_kospi_result = np.ravel(temp_kospi_result, order='C')\n",
    "    kospi_empty.append(temp_kospi_result)\n",
    "    \n",
    "    if i == len(recent_weight)-2:\n",
    "        \n",
    "        temp_kospi_df = recent_kospi_df.loc[recent_weight.index[i] : '2023-01-31']\n",
    "        temp_kospi_result = result_once(temp_kospi_df).values\n",
    "        temp_kospi_result = np.ravel(temp_kospi_result, order='C')\n",
    "        kospi_empty.append(temp_kospi_result)"
   ]
  },
  {
   "cell_type": "code",
   "execution_count": null,
   "id": "535e1ef2",
   "metadata": {},
   "outputs": [],
   "source": [
    "risk_management_weight = long_box_weight_df.loc['2021-07':'2022-01']"
   ]
  },
  {
   "cell_type": "code",
   "execution_count": null,
   "id": "921ee677",
   "metadata": {},
   "outputs": [],
   "source": [
    "risk_management_df = long_box_df.loc['2021-07':'2022-01']"
   ]
  },
  {
   "cell_type": "code",
   "execution_count": null,
   "id": "a88ab883",
   "metadata": {},
   "outputs": [],
   "source": [
    "risk_management_empty = []"
   ]
  },
  {
   "cell_type": "code",
   "execution_count": null,
   "id": "de75aac7",
   "metadata": {},
   "outputs": [],
   "source": [
    "for i in range(len(risk_management_weight)-1):\n",
    "    \n",
    "    risk_management_df = risk_management_df.loc[risk_management_weight.index[i] : risk_management_weight.index[i+1]]\n",
    "    risk_management_result = result_once(temp_df).values\n",
    "    risk_management_result = np.ravel(temp_result, order = 'C')\n",
    "    risk_management_empty.append(temp_result)\n",
    "    \n",
    "    if i == len(risk_management_weight)-2:\n",
    "        \n",
    "        temp_df = recent_df.loc[recent_weight.index[i] : '2023-01-31']\n",
    "        temp_result = result_once(temp_df).values\n",
    "        temp_result = np.ravel(temp_result, order = 'C')\n",
    "        risk_management_empty.append(temp_result)"
   ]
  },
  {
   "cell_type": "code",
   "execution_count": null,
   "id": "fcce5a46",
   "metadata": {},
   "outputs": [],
   "source": [
    "result(risk_management_df, control_weight.loc['2021-07':'2022-01'])"
   ]
  },
  {
   "cell_type": "code",
   "execution_count": null,
   "id": "3d7f33c4",
   "metadata": {},
   "outputs": [],
   "source": [
    "risk_management_weight"
   ]
  },
  {
   "cell_type": "code",
   "execution_count": null,
   "id": "bda99201",
   "metadata": {},
   "outputs": [],
   "source": [
    "long_box_weight_df.loc['2023']"
   ]
  },
  {
   "cell_type": "code",
   "execution_count": null,
   "id": "27f585bc",
   "metadata": {},
   "outputs": [],
   "source": [
    "portfolio_empty = pd.DataFrame(portfolio_empty, index = recent_weight.index, columns = ['Return', 'CAGR', 'MDD'])"
   ]
  },
  {
   "cell_type": "code",
   "execution_count": null,
   "id": "3e662086",
   "metadata": {},
   "outputs": [],
   "source": [
    "portfolio_empty"
   ]
  },
  {
   "cell_type": "code",
   "execution_count": null,
   "id": "44b462d5",
   "metadata": {},
   "outputs": [],
   "source": []
  },
  {
   "cell_type": "code",
   "execution_count": null,
   "id": "2238cd2b",
   "metadata": {},
   "outputs": [],
   "source": [
    "kospi_empty = pd.DataFrame(kospi_empty, index = recent_weight.index, columns = ['Return', 'CAGR', 'MDD'])"
   ]
  },
  {
   "cell_type": "code",
   "execution_count": null,
   "id": "a738fadb",
   "metadata": {},
   "outputs": [],
   "source": [
    "kospi_empty"
   ]
  },
  {
   "cell_type": "code",
   "execution_count": null,
   "id": "75c70621",
   "metadata": {},
   "outputs": [],
   "source": [
    "recent_vkospi = vkospi.loc[recent_weight.index[0] : '2023-01-31']"
   ]
  },
  {
   "cell_type": "code",
   "execution_count": null,
   "id": "f5096ad8",
   "metadata": {},
   "outputs": [],
   "source": [
    "recent_control_weight = control_weight.loc[recent_weight.index[0] : '2023-01-31']"
   ]
  },
  {
   "cell_type": "code",
   "execution_count": null,
   "id": "9253493c",
   "metadata": {},
   "outputs": [],
   "source": [
    "result(recent_df, control_weight)"
   ]
  },
  {
   "cell_type": "code",
   "execution_count": null,
   "id": "b6b0f58d",
   "metadata": {},
   "outputs": [],
   "source": [
    "result(recent_df, recent_control_weight)"
   ]
  },
  {
   "cell_type": "code",
   "execution_count": null,
   "id": "8ac6e247",
   "metadata": {},
   "outputs": [],
   "source": [
    "f, axes = plt.subplots(2, 1)\n",
    "f.set_size_inches((12, 8))\n",
    "plt.subplots_adjust(wspace = 0.15, hspace = 0.25)\n",
    "\n",
    "gs = gridspec.GridSpec(nrows=2, # row 몇 개 \n",
    "                       ncols=1, # col 몇 개 \n",
    "                       height_ratios=[1, 0.4], \n",
    "                      )\n",
    "\n",
    "axes[0] = plt.subplot(gs[0])\n",
    "axes[0].plot(recent_df['Close'], color = 'blue')\n",
    "#axes[0].set_ylim([19000, 24000])\n",
    "axes[0].set_title('Kodex200')\n",
    "\n",
    "axes[1] = plt.subplot(gs[1])\n",
    "axes[1].plot(recent_vkospi['종가'], color = 'black')\n",
    "axes[1].set_ylim([10, 40])\n",
    "axes[1].set_title('VKOSPI (Hurdle: 18.5)')\n",
    "axes[1].axhline(y = 18.5, color = 'red')"
   ]
  },
  {
   "cell_type": "code",
   "execution_count": null,
   "id": "05b86250",
   "metadata": {},
   "outputs": [],
   "source": []
  },
  {
   "cell_type": "code",
   "execution_count": null,
   "id": "ce50f396",
   "metadata": {},
   "outputs": [],
   "source": []
  },
  {
   "cell_type": "code",
   "execution_count": null,
   "id": "6a41f139",
   "metadata": {},
   "outputs": [],
   "source": []
  }
 ],
 "metadata": {
  "kernelspec": {
   "display_name": "Python 3",
   "language": "python",
   "name": "python3"
  },
  "language_info": {
   "codemirror_mode": {
    "name": "ipython",
    "version": 3
   },
   "file_extension": ".py",
   "mimetype": "text/x-python",
   "name": "python",
   "nbconvert_exporter": "python",
   "pygments_lexer": "ipython3",
   "version": "3.8.8"
  }
 },
 "nbformat": 4,
 "nbformat_minor": 5
}
